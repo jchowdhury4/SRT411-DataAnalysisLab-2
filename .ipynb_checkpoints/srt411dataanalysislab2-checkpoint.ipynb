{
 "cells": [
  {
   "cell_type": "markdown",
   "metadata": {},
   "source": [
    "## Listing 3-1\n",
    "\n",
    "Listing 3-1 demonstrates how the os library can be imported to a python script to use functions like chdir and path.expanduser to set the working directory.  In python, libraries for graphics are pandas and numpy."
   ]
  },
  {
   "cell_type": "code",
   "execution_count": 78,
   "metadata": {
    "collapsed": false
   },
   "outputs": [],
   "source": [
    "%matplotlib inline\n",
    "import os\n",
    "os.chdir(os.path.expanduser(\"~\") + \"/Documents/Class Notes and Assignments/SRT411/SRT411-DataAnalysisLab-2/\")"
   ]
  },
  {
   "cell_type": "markdown",
   "metadata": {},
   "source": [
    "## Listing 3-3\n",
    "\n",
    "Listing 3-3 shows how the os and urllib library can be imported into a python code to retrieve the database and save it in a similar fashion, if it does not already exist in the data repository."
   ]
  },
  {
   "cell_type": "code",
   "execution_count": 79,
   "metadata": {
    "collapsed": false
   },
   "outputs": [],
   "source": [
    "import urllib\n",
    "import os.path\n",
    "\n",
    "avURL = \"http://datadrivensecurity.info/book/ch03/data/reputation.data\"\n",
    "avRep = \"data/reputation.data\"\n",
    "if not os.path.isfile(avRep) :\n",
    "    urllib.urlretrieve(avURL, filename = avRep)"
   ]
  },
  {
   "cell_type": "markdown",
   "metadata": {},
   "source": [
    "## Listing 3-5\n",
    "\n",
    "Listing 3-5 uses the pandas library to convert the # separated values into a data frame."
   ]
  },
  {
   "cell_type": "code",
   "execution_count": 80,
   "metadata": {
    "collapsed": false
   },
   "outputs": [
    {
     "name": "stdout",
     "output_type": "stream",
     "text": [
      "                     IP  Reliability  Risk            Type Country  \\\n",
      "0        222.76.212.185            4     2   Scanning Host      CN   \n",
      "1        222.76.212.186            4     2   Scanning Host      CN   \n",
      "2           5.34.246.67            6     3        Spamming      US   \n",
      "3         178.94.97.176            4     5   Scanning Host      UA   \n",
      "4           66.2.49.232            4     2   Scanning Host      US   \n",
      "5        222.76.212.173            4     2   Scanning Host      CN   \n",
      "6        222.76.212.172            4     2   Scanning Host      CN   \n",
      "7        222.76.212.171            4     2   Scanning Host      CN   \n",
      "8         174.142.46.19            6     3        Spamming     NaN   \n",
      "9           66.2.49.244            4     2   Scanning Host      US   \n",
      "10         62.75.130.16            4     2   Scanning Host      DE   \n",
      "11         62.75.130.17            4     2   Scanning Host      DE   \n",
      "12         62.75.130.18            4     2   Scanning Host      DE   \n",
      "13         62.75.130.19            4     2   Scanning Host      DE   \n",
      "14       112.216.121.87            4     3   Scanning Host      KR   \n",
      "15       112.216.121.78            4     3   Scanning Host      KR   \n",
      "16       112.216.121.77            4     3   Scanning Host      KR   \n",
      "17       112.216.121.75            4     3   Scanning Host      KR   \n",
      "18       112.216.121.74            4     3   Scanning Host      KR   \n",
      "19        222.45.58.249            4     2   Scanning Host      CN   \n",
      "20        222.45.58.244            4     2   Scanning Host      CN   \n",
      "21       120.31.136.119            4     2   Scanning Host      CN   \n",
      "22         201.57.0.248            4     2   Scanning Host      BR   \n",
      "23         218.65.30.37            4     4   Scanning Host      CN   \n",
      "24         218.65.30.38            4     3   Scanning Host      CN   \n",
      "25         178.94.97.59            4     5   Scanning Host      UA   \n",
      "26       84.241.180.134            6     3      Malware IP      NL   \n",
      "27         62.75.130.12            4     2   Scanning Host      DE   \n",
      "28         62.75.130.13            4     2   Scanning Host      DE   \n",
      "29         62.75.130.14            4     2   Scanning Host      DE   \n",
      "...                 ...          ...   ...             ...     ...   \n",
      "258595    78.27.127.220            4     2   Scanning Host      FI   \n",
      "258596    78.27.127.210            4     2   Scanning Host      FI   \n",
      "258597     78.188.27.29            1     2   Scanning Host      TR   \n",
      "258598      223.4.10.45            6     2  Malware Domain      CN   \n",
      "258599      221.6.207.4            4     3   Scanning Host      CN   \n",
      "258600     78.27.127.51            4     2   Scanning Host      FI   \n",
      "258601     78.27.127.57            4     2   Scanning Host      FI   \n",
      "258602     78.188.27.26            1     2   Scanning Host      TR   \n",
      "258603     78.188.27.27            1     2   Scanning Host      TR   \n",
      "258604   60.168.158.231            4     4   Scanning Host      CN   \n",
      "258605     78.188.27.28            1     2   Scanning Host      TR   \n",
      "258606  180.215.161.174            4     4   Scanning Host      IN   \n",
      "258607    78.27.127.211            4     2   Scanning Host      FI   \n",
      "258608   190.229.178.34            4     3   Scanning Host      AR   \n",
      "258609   190.229.178.37            4     3   Scanning Host      AR   \n",
      "258610  190.229.178.155            4     3   Scanning Host      AR   \n",
      "258611     78.27.127.48            4     2   Scanning Host      FI   \n",
      "258612      23.83.79.89            9     2  Malware Domain     NaN   \n",
      "258613  188.190.124.120            6     3  Malware Domain      UA   \n",
      "258614     78.27.127.50            4     2   Scanning Host      FI   \n",
      "258615     78.27.127.47            4     2   Scanning Host      FI   \n",
      "258616     75.98.171.83            4     2        Spamming      US   \n",
      "258617   114.112.189.27            4     2   Scanning Host      CN   \n",
      "258618  114.112.189.139            4     2   Scanning Host      CN   \n",
      "258619  173.208.220.245            9     2        Spamming      US   \n",
      "258620  179.244.194.219            4     2        Spamming      BR   \n",
      "258621   216.99.159.166            4     2   Scanning Host      US   \n",
      "258622   216.99.159.169            3     2   Scanning Host      US   \n",
      "258623   216.99.159.176            3     2   Scanning Host      US   \n",
      "258624   216.99.159.117            3     3   Scanning Host      US   \n",
      "\n",
      "             Locale                          Coord   x  \n",
      "0            Xiamen     24.4797992706,118.08190155  11  \n",
      "1            Xiamen     24.4797992706,118.08190155  11  \n",
      "2               NaN                     38.0,-97.0  12  \n",
      "3            Merefa    49.8230018616,36.0507011414  11  \n",
      "4        Union City   37.5962982178,-122.065696716  11  \n",
      "5            Xiamen     24.4797992706,118.08190155  11  \n",
      "6            Xiamen     24.4797992706,118.08190155  11  \n",
      "7            Xiamen     24.4797992706,118.08190155  11  \n",
      "8               NaN     24.4797992706,118.08190155  12  \n",
      "9        Union City   37.5962982178,-122.065696716  11  \n",
      "10              NaN                       51.0,9.0  11  \n",
      "11              NaN                       51.0,9.0  11  \n",
      "12              NaN                       51.0,9.0  11  \n",
      "13              NaN                       51.0,9.0  11  \n",
      "14              NaN                     37.0,127.5  11  \n",
      "15              NaN                     37.0,127.5  11  \n",
      "16              NaN                     37.0,127.5  11  \n",
      "17              NaN                     37.0,127.5  11  \n",
      "18              NaN                     37.0,127.5  11  \n",
      "19          Nanjing    32.0616989136,118.777801514  11  \n",
      "20          Nanjing    32.0616989136,118.777801514  11  \n",
      "21           Foshan    23.0268001556,113.131500244  11  \n",
      "22              NaN                    -10.0,-55.0  11  \n",
      "23         Nanchang    28.5499992371,115.933296204  11  \n",
      "24         Nanchang    28.5499992371,115.933296204  11  \n",
      "25           Merefa    49.8230018616,36.0507011414  11  \n",
      "26              NaN                      52.5,5.75   7  \n",
      "27              NaN                       51.0,9.0  11  \n",
      "28              NaN                       51.0,9.0  11  \n",
      "29              NaN                       51.0,9.0  11  \n",
      "...             ...                            ...  ..  \n",
      "258595     Helsinki    60.1755981445,24.9342002869  11  \n",
      "258596     Helsinki    60.1755981445,24.9342002869  11  \n",
      "258597     Istanbul    41.0186004639,28.9647006989  11  \n",
      "258598      Beijing    39.9289016724,116.388298035   6  \n",
      "258599      Nanjing    32.0616989136,118.777801514  11  \n",
      "258600     Helsinki    60.1755981445,24.9342002869  11  \n",
      "258601     Helsinki    60.1755981445,24.9342002869  11  \n",
      "258602     Istanbul    41.0186004639,28.9647006989  11  \n",
      "258603     Istanbul    41.0186004639,28.9647006989  11  \n",
      "258604        Hefei     31.863899231,117.280799866  11  \n",
      "258605     Istanbul    41.0186004639,28.9647006989  11  \n",
      "258606          NaN                      20.0,77.0  11  \n",
      "258607     Helsinki    60.1755981445,24.9342002869  11  \n",
      "258608      Tucuman  -26.8241004944,-65.2226028442  11  \n",
      "258609      Tucuman  -26.8241004944,-65.2226028442  11  \n",
      "258610      Tucuman  -26.8241004944,-65.2226028442  11  \n",
      "258611     Helsinki    60.1755981445,24.9342002869  11  \n",
      "258612          NaN    60.1755981445,24.9342002869   6  \n",
      "258613      Kharkov    49.9808006287,36.2527008057   6  \n",
      "258614     Helsinki    60.1755981445,24.9342002869  11  \n",
      "258615     Helsinki    60.1755981445,24.9342002869  11  \n",
      "258616    Ann Arbor   42.2775993347,-83.7408981323  12  \n",
      "258617      Beijing    39.9289016724,116.388298035  11  \n",
      "258618      Beijing    39.9289016724,116.388298035  11  \n",
      "258619  Kansas City   39.1068000793,-94.5660018921  12  \n",
      "258620          NaN                    -10.0,-55.0  12  \n",
      "258621       Walnut   34.0115013123,-117.853500366  11  \n",
      "258622       Walnut   34.0115013123,-117.853500366  11  \n",
      "258623       Walnut   34.0115013123,-117.853500366  11  \n",
      "258624       Walnut   34.0115013123,-117.853500366  11  \n",
      "\n",
      "[258625 rows x 8 columns]\n"
     ]
    }
   ],
   "source": [
    "import pandas as pd\n",
    "import sys\n",
    "av = pd.read_csv(avRep,sep=\"#\")\n",
    "\n",
    "av.columns = [\"IP\",\"Reliability\",\"Risk\",\"Type\",\"Country\",\"Locale\",\"Coord\",\"x\"]\n",
    "print(av)"
   ]
  },
  {
   "cell_type": "code",
   "execution_count": 81,
   "metadata": {
    "collapsed": false
   },
   "outputs": [
    {
     "name": "stdout",
     "output_type": "stream",
     "text": [
      ",IP,Reliability,Risk,Type,Country,Locale,Coord,x\n",
      "0,222.76.212.185,4,2,Scanning Host,CN,Xiamen,\"24.4797992706,118.08190155\",11\n",
      "1,222.76.212.186,4,2,Scanning Host,CN,Xiamen,\"24.4797992706,118.08190155\",11\n",
      "2,5.34.246.67,6,3,Spamming,US,,\"38.0,-97.0\",12\n",
      "3,178.94.97.176,4,5,Scanning Host,UA,Merefa,\"49.8230018616,36.0507011414\",11\n",
      "4,66.2.49.232,4,2,Scanning Host,US,Union City,\"37.5962982178,-122.065696716\",11\n"
     ]
    }
   ],
   "source": [
    "av.head().to_csv(sys.stdout)"
   ]
  },
  {
   "cell_type": "markdown",
   "metadata": {},
   "source": [
    "## Listing 3-6\n",
    "\n",
    "Listing 3-6 demonstrates how the dataframe can be displayed in a more aesthetic HTML format by importing HTML from the IPython.display library."
   ]
  },
  {
   "cell_type": "code",
   "execution_count": 82,
   "metadata": {
    "collapsed": false
   },
   "outputs": [
    {
     "data": {
      "text/html": [
       "<table border=\"1\" class=\"dataframe\">\n",
       "  <thead>\n",
       "    <tr style=\"text-align: right;\">\n",
       "      <th></th>\n",
       "      <th>IP</th>\n",
       "      <th>Reliability</th>\n",
       "      <th>Risk</th>\n",
       "      <th>Type</th>\n",
       "      <th>Country</th>\n",
       "      <th>Locale</th>\n",
       "      <th>Coord</th>\n",
       "      <th>x</th>\n",
       "    </tr>\n",
       "  </thead>\n",
       "  <tbody>\n",
       "    <tr>\n",
       "      <th>0</th>\n",
       "      <td>222.76.212.185</td>\n",
       "      <td>4</td>\n",
       "      <td>2</td>\n",
       "      <td>Scanning Host</td>\n",
       "      <td>CN</td>\n",
       "      <td>Xiamen</td>\n",
       "      <td>24.4797992706,118.08190155</td>\n",
       "      <td>11</td>\n",
       "    </tr>\n",
       "    <tr>\n",
       "      <th>1</th>\n",
       "      <td>222.76.212.186</td>\n",
       "      <td>4</td>\n",
       "      <td>2</td>\n",
       "      <td>Scanning Host</td>\n",
       "      <td>CN</td>\n",
       "      <td>Xiamen</td>\n",
       "      <td>24.4797992706,118.08190155</td>\n",
       "      <td>11</td>\n",
       "    </tr>\n",
       "    <tr>\n",
       "      <th>2</th>\n",
       "      <td>5.34.246.67</td>\n",
       "      <td>6</td>\n",
       "      <td>3</td>\n",
       "      <td>Spamming</td>\n",
       "      <td>US</td>\n",
       "      <td>NaN</td>\n",
       "      <td>38.0,-97.0</td>\n",
       "      <td>12</td>\n",
       "    </tr>\n",
       "    <tr>\n",
       "      <th>3</th>\n",
       "      <td>178.94.97.176</td>\n",
       "      <td>4</td>\n",
       "      <td>5</td>\n",
       "      <td>Scanning Host</td>\n",
       "      <td>UA</td>\n",
       "      <td>Merefa</td>\n",
       "      <td>49.8230018616,36.0507011414</td>\n",
       "      <td>11</td>\n",
       "    </tr>\n",
       "    <tr>\n",
       "      <th>4</th>\n",
       "      <td>66.2.49.232</td>\n",
       "      <td>4</td>\n",
       "      <td>2</td>\n",
       "      <td>Scanning Host</td>\n",
       "      <td>US</td>\n",
       "      <td>Union City</td>\n",
       "      <td>37.5962982178,-122.065696716</td>\n",
       "      <td>11</td>\n",
       "    </tr>\n",
       "  </tbody>\n",
       "</table>"
      ],
      "text/plain": [
       "<IPython.core.display.HTML object>"
      ]
     },
     "execution_count": 82,
     "metadata": {},
     "output_type": "execute_result"
    }
   ],
   "source": [
    "from IPython.display import HTML\n",
    "HTML(av.head().to_html())"
   ]
  },
  {
   "cell_type": "markdown",
   "metadata": {},
   "source": [
    "## Listing 3-8\n",
    "\n",
    "The describe function is the python version of the 5 number summary from R.  It outputs the medians of the first, second, and third quartiles, as well as the mean, min, max, and standard deviation of the data."
   ]
  },
  {
   "cell_type": "code",
   "execution_count": 83,
   "metadata": {
    "collapsed": false
   },
   "outputs": [
    {
     "data": {
      "text/plain": [
       "count    258625.000000\n",
       "mean          2.798036\n",
       "std           1.130419\n",
       "min           1.000000\n",
       "25%           2.000000\n",
       "50%           2.000000\n",
       "75%           4.000000\n",
       "max          10.000000\n",
       "Name: Reliability, dtype: float64"
      ]
     },
     "execution_count": 83,
     "metadata": {},
     "output_type": "execute_result"
    }
   ],
   "source": [
    "av['Reliability'].describe()"
   ]
  },
  {
   "cell_type": "code",
   "execution_count": 84,
   "metadata": {
    "collapsed": false
   },
   "outputs": [
    {
     "data": {
      "text/plain": [
       "count    258625.000000\n",
       "mean          2.221363\n",
       "std           0.531572\n",
       "min           1.000000\n",
       "25%           2.000000\n",
       "50%           2.000000\n",
       "75%           2.000000\n",
       "max           7.000000\n",
       "Name: Risk, dtype: float64"
      ]
     },
     "execution_count": 84,
     "metadata": {},
     "output_type": "execute_result"
    }
   ],
   "source": [
    "av['Risk'].describe()"
   ]
  },
  {
   "cell_type": "markdown",
   "metadata": {},
   "source": [
    "## Listing 3-10\n",
    "The count of each categorical value is aggregated and reorganized in contextual order e.g. factor level where 2 implies that it is a greater ranking than one, but not necessarily in quantity."
   ]
  },
  {
   "cell_type": "code",
   "execution_count": 85,
   "metadata": {
    "collapsed": false
   },
   "outputs": [
    {
     "name": "stdout",
     "output_type": "stream",
     "text": [
      "1       5612\n",
      "2     149117\n",
      "3      10892\n",
      "4      87039\n",
      "5          7\n",
      "6       4758\n",
      "7        297\n",
      "8         21\n",
      "9        686\n",
      "10       196\n",
      "dtype: int64\n"
     ]
    }
   ],
   "source": [
    "def factor_col(col) :\n",
    "    factor = pd.Categorical(col)\n",
    "    return pd.value_counts(factor,sort=True).reindex(factor.categories.tolist())\n",
    "    #return pd.value_counts(factor, sort=True).reindex(factor.select_dtypes['category'])\n",
    "print factor_col(av['Reliability'])\n"
   ]
  },
  {
   "cell_type": "code",
   "execution_count": 86,
   "metadata": {
    "collapsed": false
   },
   "outputs": [
    {
     "name": "stdout",
     "output_type": "stream",
     "text": [
      "1        39\n",
      "2    213851\n",
      "3     33719\n",
      "4      9588\n",
      "5      1328\n",
      "6        90\n",
      "7        10\n",
      "dtype: int64\n"
     ]
    }
   ],
   "source": [
    "print factor_col(av['Risk'])"
   ]
  },
  {
   "cell_type": "code",
   "execution_count": 87,
   "metadata": {
    "collapsed": false
   },
   "outputs": [
    {
     "name": "stdout",
     "output_type": "stream",
     "text": [
      "APT;Malware Domain                  1\n",
      "C&C                               610\n",
      "C&C;Malware Domain                 31\n",
      "C&C;Malware IP                     20\n",
      "C&C;Scanning Host                   7\n",
      "Malicious Host                   3770\n",
      "Malicious Host;Malware Domain       4\n",
      "Malicious Host;Malware IP           2\n",
      "Malicious Host;Scanning Host      163\n",
      "Malware Domain                   9274\n",
      "dtype: int64\n"
     ]
    }
   ],
   "source": [
    "print factor_col(av['Type']).head(n=10)"
   ]
  },
  {
   "cell_type": "code",
   "execution_count": 88,
   "metadata": {
    "collapsed": false
   },
   "outputs": [
    {
     "name": "stdout",
     "output_type": "stream",
     "text": [
      "A1     267\n",
      "A2       2\n",
      "AE    1827\n",
      "AL       4\n",
      "AM       6\n",
      "AN       3\n",
      "AO     256\n",
      "AR    3046\n",
      "AT      51\n",
      "AU     155\n",
      "dtype: int64\n"
     ]
    }
   ],
   "source": [
    "print factor_col(av['Country']).head(n=10)"
   ]
  },
  {
   "cell_type": "markdown",
   "metadata": {},
   "source": [
    "## Listing 3-14\n",
    "It is possible to plot the count of 20 countries as a bar graph, in descending order, using the matplotlib.pyplot library.  We use this do determine which contry accounts for the most malicious nodes.  We further investigate the dataframe by graphing the Reliability and Risk categorical value counts to get an overview of the characteristics of the majority of the nodes."
   ]
  },
  {
   "cell_type": "code",
   "execution_count": 89,
   "metadata": {
    "collapsed": false
   },
   "outputs": [
    {
     "data": {
      "image/png": "[encoded data removed]",
      "text/plain": [
       "<matplotlib.figure.Figure at 0x140b9fd0>"
      ]
     },
     "metadata": {},
     "output_type": "display_data"
    }
   ],
   "source": [
    "import matplotlib.pyplot as plt\n",
    "country_ct = pd.value_counts(av['Country'])\n",
    "plt.axes(frameon=0)\n",
    "country_ct[:20].plot(kind='bar', rot=0, title=\"Summary By Country\", figsize=(8,5)).grid(False)"
   ]
  },
  {
   "cell_type": "markdown",
   "metadata": {},
   "source": [
    "## Listing 3-15"
   ]
  },
  {
   "cell_type": "code",
   "execution_count": 90,
   "metadata": {
    "collapsed": false
   },
   "outputs": [
    {
     "data": {
      "image/png": "[encoded data removed]",
      "text/plain": [
       "<matplotlib.figure.Figure at 0xc2677f0>"
      ]
     },
     "metadata": {},
     "output_type": "display_data"
    }
   ],
   "source": [
    "plt.axes(frameon=0)\n",
    "factor_col(av['Reliability']).plot(kind='bar', rot=0, title=\"Summary By 'Reliability'\", figsize=(8,5)).grid(False)"
   ]
  },
  {
   "cell_type": "markdown",
   "metadata": {
    "collapsed": true
   },
   "source": [
    "## Listed 3-16"
   ]
  },
  {
   "cell_type": "code",
   "execution_count": 91,
   "metadata": {
    "collapsed": false
   },
   "outputs": [
    {
     "data": {
      "image/png": "[encoded data removed]",
      "text/plain": [
       "<matplotlib.figure.Figure at 0xc36a1d0>"
      ]
     },
     "metadata": {},
     "output_type": "display_data"
    }
   ],
   "source": [
    "plt.axes(frameon=0)\n",
    "factor_col(av['Risk']).plot(kind='bar', rot=0, title=\"Summary By 'Risk'\", figsize=(8,5)).grid(False)"
   ]
  },
  {
   "cell_type": "markdown",
   "metadata": {},
   "source": [
    "\n",
    "## Listing 3-18\n",
    "The contribution of malicious nodes by countries can be reflected as a percentage output as well by dividing the value count of each country with the length of the factor."
   ]
  },
  {
   "cell_type": "code",
   "execution_count": 92,
   "metadata": {
    "collapsed": false
   },
   "outputs": [
    {
     "data": {
      "text/plain": [
       "CN    0.265179\n",
       "US    0.194826\n",
       "TR    0.053970\n",
       "DE    0.038484\n",
       "NL    0.030666\n",
       "RU    0.024537\n",
       "GB    0.024333\n",
       "IN    0.021189\n",
       "FR    0.021069\n",
       "Name: Country, dtype: float64"
      ]
     },
     "execution_count": 92,
     "metadata": {},
     "output_type": "execute_result"
    }
   ],
   "source": [
    "top10 = pd.value_counts(av['Country'])[0:9]\n",
    "top10.astype(float) / len(av['Country'])"
   ]
  },
  {
   "cell_type": "markdown",
   "metadata": {},
   "source": [
    "## Listing 3-20\n",
    "A numerical output of the count of nodes for each permutation of Risk~Reliability combination is made using the cm function from the pandas library.  Then, using numpy and cmap from mplotlib, you can produce a heatmap of the permutations to get a visual of where the majority of the data is concentrated."
   ]
  },
  {
   "cell_type": "code",
   "execution_count": 93,
   "metadata": {
    "collapsed": false
   },
   "outputs": [
    {
     "data": {
      "text/html": [
       "<div>\n",
       "<table border=\"1\" class=\"dataframe\">\n",
       "  <thead>\n",
       "    <tr style=\"text-align: right;\">\n",
       "      <th>Reliability</th>\n",
       "      <th>1</th>\n",
       "      <th>2</th>\n",
       "      <th>3</th>\n",
       "      <th>4</th>\n",
       "      <th>5</th>\n",
       "      <th>6</th>\n",
       "      <th>7</th>\n",
       "      <th>8</th>\n",
       "      <th>9</th>\n",
       "      <th>10</th>\n",
       "    </tr>\n",
       "    <tr>\n",
       "      <th>Risk</th>\n",
       "      <th></th>\n",
       "      <th></th>\n",
       "      <th></th>\n",
       "      <th></th>\n",
       "      <th></th>\n",
       "      <th></th>\n",
       "      <th></th>\n",
       "      <th></th>\n",
       "      <th></th>\n",
       "      <th></th>\n",
       "    </tr>\n",
       "  </thead>\n",
       "  <tbody>\n",
       "    <tr>\n",
       "      <th>1</th>\n",
       "      <td>0</td>\n",
       "      <td>0</td>\n",
       "      <td>16</td>\n",
       "      <td>7</td>\n",
       "      <td>0</td>\n",
       "      <td>8</td>\n",
       "      <td>8</td>\n",
       "      <td>0</td>\n",
       "      <td>0</td>\n",
       "      <td>0</td>\n",
       "    </tr>\n",
       "    <tr>\n",
       "      <th>2</th>\n",
       "      <td>804</td>\n",
       "      <td>149114</td>\n",
       "      <td>3670</td>\n",
       "      <td>57652</td>\n",
       "      <td>4</td>\n",
       "      <td>2084</td>\n",
       "      <td>85</td>\n",
       "      <td>11</td>\n",
       "      <td>345</td>\n",
       "      <td>82</td>\n",
       "    </tr>\n",
       "    <tr>\n",
       "      <th>3</th>\n",
       "      <td>2225</td>\n",
       "      <td>3</td>\n",
       "      <td>6668</td>\n",
       "      <td>22168</td>\n",
       "      <td>2</td>\n",
       "      <td>2151</td>\n",
       "      <td>156</td>\n",
       "      <td>7</td>\n",
       "      <td>260</td>\n",
       "      <td>79</td>\n",
       "    </tr>\n",
       "    <tr>\n",
       "      <th>4</th>\n",
       "      <td>2129</td>\n",
       "      <td>0</td>\n",
       "      <td>481</td>\n",
       "      <td>6447</td>\n",
       "      <td>0</td>\n",
       "      <td>404</td>\n",
       "      <td>43</td>\n",
       "      <td>2</td>\n",
       "      <td>58</td>\n",
       "      <td>24</td>\n",
       "    </tr>\n",
       "    <tr>\n",
       "      <th>5</th>\n",
       "      <td>432</td>\n",
       "      <td>0</td>\n",
       "      <td>55</td>\n",
       "      <td>700</td>\n",
       "      <td>1</td>\n",
       "      <td>103</td>\n",
       "      <td>5</td>\n",
       "      <td>1</td>\n",
       "      <td>20</td>\n",
       "      <td>11</td>\n",
       "    </tr>\n",
       "    <tr>\n",
       "      <th>6</th>\n",
       "      <td>19</td>\n",
       "      <td>0</td>\n",
       "      <td>2</td>\n",
       "      <td>60</td>\n",
       "      <td>0</td>\n",
       "      <td>8</td>\n",
       "      <td>0</td>\n",
       "      <td>0</td>\n",
       "      <td>1</td>\n",
       "      <td>0</td>\n",
       "    </tr>\n",
       "    <tr>\n",
       "      <th>7</th>\n",
       "      <td>3</td>\n",
       "      <td>0</td>\n",
       "      <td>0</td>\n",
       "      <td>5</td>\n",
       "      <td>0</td>\n",
       "      <td>0</td>\n",
       "      <td>0</td>\n",
       "      <td>0</td>\n",
       "      <td>2</td>\n",
       "      <td>0</td>\n",
       "    </tr>\n",
       "  </tbody>\n",
       "</table>\n",
       "</div>"
      ],
      "text/plain": [
       "Reliability    1       2     3      4   5     6    7   8    9   10\n",
       "Risk                                                              \n",
       "1               0       0    16      7   0     8    8   0    0   0\n",
       "2             804  149114  3670  57652   4  2084   85  11  345  82\n",
       "3            2225       3  6668  22168   2  2151  156   7  260  79\n",
       "4            2129       0   481   6447   0   404   43   2   58  24\n",
       "5             432       0    55    700   1   103    5   1   20  11\n",
       "6              19       0     2     60   0     8    0   0    1   0\n",
       "7               3       0     0      5   0     0    0   0    2   0"
      ]
     },
     "execution_count": 93,
     "metadata": {},
     "output_type": "execute_result"
    }
   ],
   "source": [
    "from matplotlib import cm\n",
    "from numpy import arange\n",
    "pd.crosstab(av['Risk'], av['Reliability'])"
   ]
  },
  {
   "cell_type": "code",
   "execution_count": 94,
   "metadata": {
    "collapsed": false
   },
   "outputs": [
    {
     "data": {
      "text/plain": [
       "<matplotlib.colorbar.Colorbar at 0x13bb8cc0>"
      ]
     },
     "execution_count": 94,
     "metadata": {},
     "output_type": "execute_result"
    },
    {
     "data": {
      "image/png": "[encoded data removed]",
      "text/plain": [
       "<matplotlib.figure.Figure at 0x141edb70>"
      ]
     },
     "metadata": {},
     "output_type": "display_data"
    }
   ],
   "source": [
    "xtab = pd.crosstab(av['Reliability'], av['Risk'])\n",
    "plt.pcolor(xtab,cmap=cm.Greens)\n",
    "plt.yticks(arange(0.5, len(xtab.index), 1),xtab.index)\n",
    "plt.xticks(arange(0.5, len(xtab.columns), 1),xtab.columns)\n",
    "plt.colorbar()"
   ]
  },
  {
   "cell_type": "markdown",
   "metadata": {},
   "source": [
    "## Listing 3-23\n",
    "A three-way contingency table, relating Risk, Reliablility, and malicious node type and outputting it as a simple bargraph."
   ]
  },
  {
   "cell_type": "code",
   "execution_count": 95,
   "metadata": {
    "collapsed": false
   },
   "outputs": [
    {
     "name": "stdout",
     "output_type": "stream",
     "text": [
      "rel                     1                               2      3                          4                                  5        6                        7                  8             9                     10            Multiples\n",
      "rsk                     2     3     4    5   6  7       2  3   1     2     3    4   5  6  1      2      3     4    5   6  7  2  3  5  1    2    3    4   5  6  1   2    3   4  5  2  3  4  5    2    3   4   5  6  7   2   3   4  5 Multiples\n",
      "typ                                                                                                                                                                                                                                          \n",
      "C&C                     0     0     1    2   1  0       0  0   0     0     0  313  22  2  0      0      0    15   22   4  1  0  0  1  0    0    0   98  60  5  0   0    0   7  3  0  0  1  1    0    0  19  16  1  1   0   1   8  5         0\n",
      "Malicious Host          0     6    51   41   8  1       0  0   1   206  2250    7   2  0  0    152    512   336  138  30  2  1  0  0  1    3    8    8   4  0  0   0    0   0  0  0  0  0  0    0    2   0   0  0  0   0   0   0  0         0\n",
      "Malware Domain         12     1     0    0   0  0    7309  0   2   246    55    2   1  0  0     60     18     2    0   0  0  2  1  0  2  921  273   26   2  0  3  72   13   0  0  7  1  1  0  135   38   6   0  0  0  54   7   2  0         0\n",
      "Malware IP              0    23    11   15  10  2       0  3  12   415  4091   71   6  0  1    132    205   122   45  13  2  0  1  0  3   10  793  133  11  3  5   0  140  35  0  0  6  0  0    1   74  10   0  0  0   0  53  11  2         0\n",
      "Malware distribution    0     0     0    0   0  0       0  0   0     0     1    0   0  0  0      0      0     0    0   0  0  0  0  0  0    0    0    0   0  0  0   0    0   0  0  0  0  0  0    0    0   0   0  0  0   0   0   0  0         0\n",
      "Multiples               0     0     0    0   0  0       0  0   0     0     0    0   0  0  0      0      0     0    0   0  0  0  0  0  0    0    0    0   0  0  0   0    0   0  0  0  0  0  0    0    0   0   0  0  0   0   0   0  0       834\n",
      "Scanning Host         790  2189  2056  366   0  0  141543  0   1  2685   159   35  13  0  6  55653  21325  5931  488  13  0  1  0  0  2  611  107   23   1  0  0   0    0   0  0  2  0  0  0  150   22   7   0  0  0   0   0   0  0         0\n",
      "Spamming                1     2     9    7   0  0       1  0   0    22     9   17   6  0  0   1536     40    21    4   0  0  0  0  0  0  512  931  106  17  0  0   4    1   0  2  1  0  0  0   52  120  15   3  0  0  24  17   3  4         0\n"
     ]
    }
   ],
   "source": [
    "av['newtype'] = av['Type']\n",
    "av[av['newtype'].str.contains(\";\")] = \"Multiples\"\n",
    "typ = av['newtype']\n",
    "rel = av['Reliability']\n",
    "rsk = av['Risk']\n",
    "xtab = pd.crosstab(typ, [ rel, rsk ], rownames=['typ'], colnames=['rel', 'rsk'])\n",
    "print xtab.to_string()"
   ]
  },
  {
   "cell_type": "code",
   "execution_count": 96,
   "metadata": {
    "collapsed": false
   },
   "outputs": [
    {
     "data": {
      "image/png": "[encoded data removed]",
      "text/plain": [
       "<matplotlib.figure.Figure at 0x1380dcf8>"
      ]
     },
     "metadata": {},
     "output_type": "display_data"
    }
   ],
   "source": [
    "xtab.plot(kind='bar', legend=False, title=\"Risk ~ Reliability | Type\").grid(False)"
   ]
  },
  {
   "cell_type": "markdown",
   "metadata": {},
   "source": [
    "## Listing 3-25\n",
    "\n",
    "The Scanning Host category is omitted since the majority of the nodes are concentrated there but have a negligable Risk~Reliability permutation."
   ]
  },
  {
   "cell_type": "code",
   "execution_count": 97,
   "metadata": {
    "collapsed": false
   },
   "outputs": [
    {
     "data": {
      "image/png": "[encoded data removed]",
      "text/plain": [
       "<matplotlib.figure.Figure at 0xef8a828>"
      ]
     },
     "metadata": {},
     "output_type": "display_data"
    }
   ],
   "source": [
    "rrt_df = av[av['newtype'] !=\"Scanning Host\"]\n",
    "typ = rrt_df['newtype']\n",
    "rel = rrt_df['Reliability']\n",
    "rsk = rrt_df['Risk']\n",
    "xtab = pd.crosstab(typ, [ rel, rsk ], rownames=['typ'], colnames=['rel', 'rsk'])\n",
    "xtab.plot(kind='bar', legend=False, title=\"Risk ~ Reliability | Type\").grid(False)"
   ]
  },
  {
   "cell_type": "markdown",
   "metadata": {},
   "source": [
    "## Listing 3-27\n",
    "\n",
    "The Malware distribution and Malware Domain are omitted since Malware Domain has no nodes, and Malware distribution has negligeable Risk~Reliability permutation.  A count of the nodes in the modified data shows that it accounts for 5.9% of all nodes."
   ]
  },
  {
   "cell_type": "code",
   "execution_count": 98,
   "metadata": {
    "collapsed": false
   },
   "outputs": [
    {
     "name": "stdout",
     "output_type": "stream",
     "text": [
      "Count: 15171; Percent: 5.9%\n"
     ]
    }
   ],
   "source": [
    "rrt_df = rrt_df[rrt_df['newtype'] != \"Malware distribution\" ]\n",
    "rrt_df = rrt_df[rrt_df['newtype'] != \"Malware Domain\" ]\n",
    "typ = rrt_df['newtype']\n",
    "rel = rrt_df['Reliability']\n",
    "rsk = rrt_df['Risk']\n",
    "xtab = pd.crosstab(typ, [ rel, rsk ], rownames=['typ'], colnames=['rel', 'rsk'])\n",
    "print \"Count: %d; Percent: %2.1f%%\" % (len(rrt_df), (float(len(rrt_df)) / len(av))  * 100)"
   ]
  },
  {
   "cell_type": "code",
   "execution_count": 99,
   "metadata": {
    "collapsed": false
   },
   "outputs": [
    {
     "data": {
      "image/png": "[encoded data removed]",
      "text/plain": [
       "<matplotlib.figure.Figure at 0x11635a58>"
      ]
     },
     "metadata": {},
     "output_type": "display_data"
    }
   ],
   "source": [
    "xtab.plot(kind='bar', legend=False, title=\"Risk ~ Reliability | Type\").grid(False)"
   ]
  }
 ],
 "metadata": {
  "kernelspec": {
   "display_name": "Python 2",
   "language": "python",
   "name": "python2"
  },
  "language_info": {
   "codemirror_mode": {
    "name": "ipython",
    "version": 2
   },
   "file_extension": ".py",
   "mimetype": "text/x-python",
   "name": "python",
   "nbconvert_exporter": "python",
   "pygments_lexer": "ipython2",
   "version": "2.7.11"
  }
 },
 "nbformat": 4,
 "nbformat_minor": 0
}
